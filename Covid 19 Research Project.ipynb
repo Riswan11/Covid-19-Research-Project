{
 "cells": [
  {
   "cell_type": "code",
   "execution_count": 2,
   "metadata": {},
   "outputs": [],
   "source": [
    "import pandas as pd\n",
    "import numpy as np\n",
    "import matplotlib as mpl\n",
    "import matplotlib.pyplot as plt\n",
    "#from fbprophet import Prophet\n",
    "import seaborn as sns\n",
    "%matplotlib inline"
   ]
  },
  {
   "cell_type": "code",
   "execution_count": 3,
   "metadata": {},
   "outputs": [],
   "source": [
    "#Load the csv data, creating pandas dataframe by persisting date format\n",
    "world_df = pd.read_csv('https://raw.githubusercontent.com/bitprj/covid19/master/covid_data.csv',parse_dates=['Date'])"
   ]
  },
  {
   "cell_type": "code",
   "execution_count": 4,
   "metadata": {},
   "outputs": [],
   "source": [
    "#df.head() Returns the first 5 rows of the dataframe. To override the default, you may insert a value between the parenthesis to change the number of rows returned. Example: df.head(10) will return 10 rows.\n"
   ]
  },
  {
   "cell_type": "code",
   "execution_count": 5,
   "metadata": {},
   "outputs": [
    {
     "data": {
      "text/html": [
       "<div>\n",
       "<style scoped>\n",
       "    .dataframe tbody tr th:only-of-type {\n",
       "        vertical-align: middle;\n",
       "    }\n",
       "\n",
       "    .dataframe tbody tr th {\n",
       "        vertical-align: top;\n",
       "    }\n",
       "\n",
       "    .dataframe thead th {\n",
       "        text-align: right;\n",
       "    }\n",
       "</style>\n",
       "<table border=\"1\" class=\"dataframe\">\n",
       "  <thead>\n",
       "    <tr style=\"text-align: right;\">\n",
       "      <th></th>\n",
       "      <th>Id</th>\n",
       "      <th>Province_State</th>\n",
       "      <th>Country_Region</th>\n",
       "      <th>Date</th>\n",
       "      <th>ConfirmedCases</th>\n",
       "      <th>Fatalities</th>\n",
       "    </tr>\n",
       "  </thead>\n",
       "  <tbody>\n",
       "    <tr>\n",
       "      <td>0</td>\n",
       "      <td>1</td>\n",
       "      <td>NaN</td>\n",
       "      <td>Afghanistan</td>\n",
       "      <td>2020-01-22</td>\n",
       "      <td>0.0</td>\n",
       "      <td>0.0</td>\n",
       "    </tr>\n",
       "    <tr>\n",
       "      <td>1</td>\n",
       "      <td>2</td>\n",
       "      <td>NaN</td>\n",
       "      <td>Afghanistan</td>\n",
       "      <td>2020-01-23</td>\n",
       "      <td>0.0</td>\n",
       "      <td>0.0</td>\n",
       "    </tr>\n",
       "    <tr>\n",
       "      <td>2</td>\n",
       "      <td>3</td>\n",
       "      <td>NaN</td>\n",
       "      <td>Afghanistan</td>\n",
       "      <td>2020-01-24</td>\n",
       "      <td>0.0</td>\n",
       "      <td>0.0</td>\n",
       "    </tr>\n",
       "    <tr>\n",
       "      <td>3</td>\n",
       "      <td>4</td>\n",
       "      <td>NaN</td>\n",
       "      <td>Afghanistan</td>\n",
       "      <td>2020-01-25</td>\n",
       "      <td>0.0</td>\n",
       "      <td>0.0</td>\n",
       "    </tr>\n",
       "    <tr>\n",
       "      <td>4</td>\n",
       "      <td>5</td>\n",
       "      <td>NaN</td>\n",
       "      <td>Afghanistan</td>\n",
       "      <td>2020-01-26</td>\n",
       "      <td>0.0</td>\n",
       "      <td>0.0</td>\n",
       "    </tr>\n",
       "  </tbody>\n",
       "</table>\n",
       "</div>"
      ],
      "text/plain": [
       "   Id Province_State Country_Region       Date  ConfirmedCases  Fatalities\n",
       "0   1            NaN    Afghanistan 2020-01-22             0.0         0.0\n",
       "1   2            NaN    Afghanistan 2020-01-23             0.0         0.0\n",
       "2   3            NaN    Afghanistan 2020-01-24             0.0         0.0\n",
       "3   4            NaN    Afghanistan 2020-01-25             0.0         0.0\n",
       "4   5            NaN    Afghanistan 2020-01-26             0.0         0.0"
      ]
     },
     "execution_count": 5,
     "metadata": {},
     "output_type": "execute_result"
    }
   ],
   "source": [
    "#Display top 5 records\n",
    "world_df.head(5)"
   ]
  },
  {
   "cell_type": "code",
   "execution_count": null,
   "metadata": {},
   "outputs": [],
   "source": [
    "\"\"\"\n",
    "                Dataset Information\n",
    "1.id - Serial Number\n",
    "2.Province_State - Respective State of the Country\n",
    "3.Country_Region - Country Name\n",
    "4.Date - Date(yyyy-mm-dd) format\n",
    "5.ConfirmedCases - Total cases till provided date(It's a cumilative number)\n",
    "6.Fatalities - Total deaths till provided date(It's a cumilative number)\n",
    "\"\"\""
   ]
  },
  {
   "cell_type": "code",
   "execution_count": 7,
   "metadata": {},
   "outputs": [
    {
     "data": {
      "text/html": [
       "<div>\n",
       "<style scoped>\n",
       "    .dataframe tbody tr th:only-of-type {\n",
       "        vertical-align: middle;\n",
       "    }\n",
       "\n",
       "    .dataframe tbody tr th {\n",
       "        vertical-align: top;\n",
       "    }\n",
       "\n",
       "    .dataframe thead th {\n",
       "        text-align: right;\n",
       "    }\n",
       "</style>\n",
       "<table border=\"1\" class=\"dataframe\">\n",
       "  <thead>\n",
       "    <tr style=\"text-align: right;\">\n",
       "      <th></th>\n",
       "      <th>Id</th>\n",
       "      <th>ConfirmedCases</th>\n",
       "      <th>Fatalities</th>\n",
       "    </tr>\n",
       "  </thead>\n",
       "  <tbody>\n",
       "    <tr>\n",
       "      <td>count</td>\n",
       "      <td>27231.000000</td>\n",
       "      <td>27231.000000</td>\n",
       "      <td>27231.000000</td>\n",
       "    </tr>\n",
       "    <tr>\n",
       "      <td>mean</td>\n",
       "      <td>17828.000000</td>\n",
       "      <td>1372.808050</td>\n",
       "      <td>75.991444</td>\n",
       "    </tr>\n",
       "    <tr>\n",
       "      <td>std</td>\n",
       "      <td>10300.673333</td>\n",
       "      <td>9488.242361</td>\n",
       "      <td>808.719059</td>\n",
       "    </tr>\n",
       "    <tr>\n",
       "      <td>min</td>\n",
       "      <td>1.000000</td>\n",
       "      <td>0.000000</td>\n",
       "      <td>0.000000</td>\n",
       "    </tr>\n",
       "    <tr>\n",
       "      <td>25%</td>\n",
       "      <td>8914.500000</td>\n",
       "      <td>0.000000</td>\n",
       "      <td>0.000000</td>\n",
       "    </tr>\n",
       "    <tr>\n",
       "      <td>50%</td>\n",
       "      <td>17828.000000</td>\n",
       "      <td>2.000000</td>\n",
       "      <td>0.000000</td>\n",
       "    </tr>\n",
       "    <tr>\n",
       "      <td>75%</td>\n",
       "      <td>26741.500000</td>\n",
       "      <td>138.000000</td>\n",
       "      <td>1.000000</td>\n",
       "    </tr>\n",
       "    <tr>\n",
       "      <td>max</td>\n",
       "      <td>35655.000000</td>\n",
       "      <td>230597.000000</td>\n",
       "      <td>22745.000000</td>\n",
       "    </tr>\n",
       "  </tbody>\n",
       "</table>\n",
       "</div>"
      ],
      "text/plain": [
       "                 Id  ConfirmedCases    Fatalities\n",
       "count  27231.000000    27231.000000  27231.000000\n",
       "mean   17828.000000     1372.808050     75.991444\n",
       "std    10300.673333     9488.242361    808.719059\n",
       "min        1.000000        0.000000      0.000000\n",
       "25%     8914.500000        0.000000      0.000000\n",
       "50%    17828.000000        2.000000      0.000000\n",
       "75%    26741.500000      138.000000      1.000000\n",
       "max    35655.000000   230597.000000  22745.000000"
      ]
     },
     "execution_count": 7,
     "metadata": {},
     "output_type": "execute_result"
    }
   ],
   "source": [
    "#df.describe() - allows us to view some descriptive statistics that summarises the central tendancy, dispersion, and shape\n",
    "#so what we want to do next is to view some basic statistical details like percentil, mean and std\n",
    "world_df.describe()"
   ]
  },
  {
   "cell_type": "code",
   "execution_count": 8,
   "metadata": {},
   "outputs": [
    {
     "name": "stdout",
     "output_type": "stream",
     "text": [
      "<class 'pandas.core.frame.DataFrame'>\n",
      "RangeIndex: 27231 entries, 0 to 27230\n",
      "Data columns (total 6 columns):\n",
      "Id                27231 non-null int64\n",
      "Province_State    11571 non-null object\n",
      "Country_Region    27231 non-null object\n",
      "Date              27231 non-null datetime64[ns]\n",
      "ConfirmedCases    27231 non-null float64\n",
      "Fatalities        27231 non-null float64\n",
      "dtypes: datetime64[ns](1), float64(2), int64(1), object(2)\n",
      "memory usage: 1.2+ MB\n"
     ]
    }
   ],
   "source": [
    "#df.info()Provides a summary of the data including the index data type, column data types, non-null values and memory usage.\n",
    "world_df.info()"
   ]
  },
  {
   "cell_type": "code",
   "execution_count": 9,
   "metadata": {},
   "outputs": [],
   "source": [
    "#Before we start data analysis, we have to determine if there are any anomalies with the data which is called QAing the Data"
   ]
  },
  {
   "cell_type": "code",
   "execution_count": 10,
   "metadata": {},
   "outputs": [
    {
     "data": {
      "text/plain": [
       "True"
      ]
     },
     "execution_count": 10,
     "metadata": {},
     "output_type": "execute_result"
    }
   ],
   "source": [
    "#Whether the data frame has any NaN values\n",
    "world_df.isnull().values.any()"
   ]
  },
  {
   "cell_type": "code",
   "execution_count": 11,
   "metadata": {},
   "outputs": [
    {
     "data": {
      "text/plain": [
       "Id                    0\n",
       "Province_State    15660\n",
       "Country_Region        0\n",
       "Date                  0\n",
       "ConfirmedCases        0\n",
       "Fatalities            0\n",
       "dtype: int64"
      ]
     },
     "execution_count": 11,
     "metadata": {},
     "output_type": "execute_result"
    }
   ],
   "source": [
    "#whether the data frame has any NAN values\n",
    "world_df.isnull().sum()"
   ]
  },
  {
   "cell_type": "code",
   "execution_count": null,
   "metadata": {},
   "outputs": [],
   "source": [
    "\"\"\"\"\n",
    "So only Province_State has 15660 NaN values. We are going to replace the NaN values with a blank string.\"\"\n",
    "\"\"\"\""
   ]
  },
  {
   "cell_type": "code",
   "execution_count": 19,
   "metadata": {},
   "outputs": [],
   "source": [
    "#Replace NAN values with blank string\n",
    "world_df.fillna({'Province_State': \"\"},inplace=True)"
   ]
  },
  {
   "cell_type": "code",
   "execution_count": null,
   "metadata": {},
   "outputs": [],
   "source": [
    "\"\"\"\n",
    "            Data Visualization\n",
    "Total world wide Covid-19 Cases and deaths representations\n",
    "\"\"\""
   ]
  },
  {
   "cell_type": "code",
   "execution_count": 22,
   "metadata": {},
   "outputs": [
    {
     "data": {
      "image/png": "[encoded data removed]",
      "text/plain": [
       "<Figure size 864x576 with 1 Axes>"
      ]
     },
     "metadata": {
      "needs_background": "light"
     },
     "output_type": "display_data"
    }
   ],
   "source": [
    "#bar chart for total confirmed and fatalities cases\n",
    "axis = world_df[['Date','ConfirmedCases','Fatalities']].set_index('Date').plot(figsize=(12, 8),logy=True)\n",
    "plt.show()"
   ]
  },
  {
   "cell_type": "code",
   "execution_count": 23,
   "metadata": {},
   "outputs": [
    {
     "data": {
      "text/plain": [
       "<pandas.core.groupby.generic.DataFrameGroupBy object at 0x0000021A6A3F6F08>"
      ]
     },
     "execution_count": 23,
     "metadata": {},
     "output_type": "execute_result"
    }
   ],
   "source": [
    "#Data Aggregation\n",
    "\n",
    "world_df.groupby('Country_Region')\n",
    "#world_df.groupby('Country_Region')['ConfirmedCases'].sum()\n",
    "#world_df.groupby('Country_Region')['ConfirmedCases'].sum().reset_index()"
   ]
  },
  {
   "cell_type": "code",
   "execution_count": 27,
   "metadata": {},
   "outputs": [],
   "source": [
    "country_cases_df = world_df.groupby('Country_Region')['ConfirmedCases'].sum().reset_index()\n",
    "country_cases_df.sort_values([\"ConfirmedCases\"],ascending=False,inplace=True)"
   ]
  },
  {
   "cell_type": "code",
   "execution_count": 28,
   "metadata": {},
   "outputs": [
    {
     "data": {
      "image/png": "[encoded data removed]",
      "text/plain": [
       "<Figure size 432x288 with 1 Axes>"
      ]
     },
     "metadata": {
      "needs_background": "light"
     },
     "output_type": "display_data"
    }
   ],
   "source": [
    "top_count = 10\n",
    "country_cases_df[:top_count].plot.bar(x='Country_Region',y = 'ConfirmedCases');"
   ]
  },
  {
   "cell_type": "code",
   "execution_count": 29,
   "metadata": {},
   "outputs": [],
   "source": [
    "#Q1: Most death rated counties?\n",
    "\n",
    "#Find sum of deaths per country\n",
    "country_death_df = world_df.groupby('Country_Region')['Fatalities'].sum().reset_index()\n",
    "\n",
    "#merge grouped cases and grouped deaths\n",
    "total_df = country_death_df.merge(country_cases_df)\n",
    "\n",
    "\n",
    "#Find death rate and sort in descending order\n",
    "total_df['DeathRate']   = (total_df.Fatalities / total_df.ConfirmedCases)*100\n",
    "total_df.sort_values('DeathRate',ascending=False,inplace=True)"
   ]
  },
  {
   "cell_type": "code",
   "execution_count": 30,
   "metadata": {},
   "outputs": [
    {
     "data": {
      "image/png": "[encoded data removed]",
      "text/plain": [
       "<Figure size 432x288 with 1 Axes>"
      ]
     },
     "metadata": {
      "needs_background": "light"
     },
     "output_type": "display_data"
    }
   ],
   "source": [
    "#Visualize\n",
    "\n",
    "#bar chart with x = death rate and y = countries\n",
    "axis = total_df.head(5).plot.barh(x='Country_Region',y = 'DeathRate');\n",
    "plt.show()"
   ]
  },
  {
   "cell_type": "code",
   "execution_count": null,
   "metadata": {},
   "outputs": [],
   "source": [
    "\"\"\"\n",
    "Most death rated countries are displayed through bar chart. \n",
    "If notice most of them are economically poor countries. Their health care system would be very minimal.\n",
    "\"\"\""
   ]
  },
  {
   "cell_type": "code",
   "execution_count": null,
   "metadata": {},
   "outputs": [],
   "source": [
    "\"\"\"\n",
    "\n",
    "Train and Test data split\n",
    "This functions prepare train test data split\n",
    "\n",
    "Why train/test split? We don't have the future data we want to predict. However, we're able to access the performance of our model's ability to predict future data. So we hold out a portion of our working data as \"test\" data and only train the model on the leftover part, the \"train\" data.\n",
    "\n",
    "Parameters\n",
    "\n",
    "df (dataframe) : The dataframe to be processed\n",
    "period (int) : Test dataset size(default is 5 days)\n",
    "Returned Data\n",
    "\n",
    "train_data (dataframe) - train set to train the model\n",
    "test_data (dataframe) - test set to train the model\n",
    "\"\"\""
   ]
  },
  {
   "cell_type": "code",
   "execution_count": 32,
   "metadata": {},
   "outputs": [],
   "source": [
    "def train_test_data_split(df,period=5):\n",
    "  #Excluding last 5 for the training set\n",
    "  train_data = df[:-period]\n",
    "  #Including last 5 for the test set\n",
    "  test_data =  df[-period:]\n",
    "  return train_data,test_data"
   ]
  },
  {
   "cell_type": "code",
   "execution_count": null,
   "metadata": {},
   "outputs": [],
   "source": [
    "\"\"\"\n",
    "Prophet Model Training\n",
    "Facebook's Prophet framework is a procedure for forecasting time series data based on an additive model where non-linear trends are fit with yearly, weekly, and daily seasonality, plus holiday effects. The modeling function helps in build and deploy the model\n",
    "\n",
    "Parameters\n",
    "\n",
    "train_data (dataframe) - train set to train the model\n",
    "Returned Data\n",
    "\n",
    "pm (prophet object) -  prophet object to run the predictions\n",
    "If the trend changes are being overfit (too much flexibility) or underfit (not enough flexibility), you can adjust the strength of the sparse prior using the input argument changepoint_prior_scale. By default, this parameter is set to 0.05. Increasing it will make the trend more flexible:\n",
    "\"\"\""
   ]
  },
  {
   "cell_type": "code",
   "execution_count": 33,
   "metadata": {},
   "outputs": [],
   "source": [
    "def modeling(train_data):\n",
    "  #Prophet algorith helps to predict the time series data\n",
    "  pm = Prophet(changepoint_prior_scale=0.95,interval_width=1)\n",
    "  #training the model\n",
    "  pm.fit(train_data)\n",
    "  return pm"
   ]
  },
  {
   "cell_type": "code",
   "execution_count": null,
   "metadata": {},
   "outputs": [],
   "source": [
    "\"\"\"\n",
    "Predictions\n",
    "This functions helps in run the predictions\n",
    "\n",
    "Parameters\n",
    "\n",
    "pm (prophet object) -  prophet object to run the predictions\n",
    "periods(int) - Number of days for predictions\n",
    "Returned Data\n",
    "\n",
    "pm_forecast (dataframe) -  dataframe with predictions\n",
    "\"\"\""
   ]
  },
  {
   "cell_type": "code",
   "execution_count": 34,
   "metadata": {},
   "outputs": [],
   "source": [
    "def predictions(pm,periods=5):\n",
    "  #considering 5 future days\n",
    "  future = pm.make_future_dataframe(periods)\n",
    "  #predicting provided days\n",
    "  pm_forecast = pm.predict(future)\n",
    "  return pm_forecast"
   ]
  },
  {
   "cell_type": "code",
   "execution_count": 35,
   "metadata": {},
   "outputs": [],
   "source": [
    "\"\"\"\n",
    "\n",
    "Model Evaluation\n",
    "The mean absolute percentage error (MAPE), also known as mean absolute percentage deviation (MAPD), is a measure of prediction accuracy of a forecasting method in statistics, for example in trend estimation, also used as a loss function for regression problems in machine learning. It usually expresses the accuracy as a ratio defined by the formula:\n",
    "\n",
    "TL;DR - On average, how does the forecasted values deviate (percentage wise) from the actual values.\n",
    "\n",
    "This functions helps to evaluate the model\n",
    "\n",
    "Parameters\n",
    "  y_true (dataframe) -  test dataset\n",
    "  y_pred(dataframe) - predicted dataset\n",
    "Returns:  \n",
    "  mape (int) -  integer\n",
    "\"\"\""
   ]
  },
  {
   "cell_type": "code",
   "execution_count": null,
   "metadata": {},
   "outputs": [],
   "source": [
    "#To calculate the deviation, we use numpy's .abs function to calculate the deviation of the true value from the prediction.\n",
    "def mean_absolute_percentage_error(y_true, y_pred):\n",
    "    y_true, y_pred = np.array(y_true), np.array(y_pred)\n",
    "    return np.mean(np.abs((y_true - y_pred) / y_true)) * 100"
   ]
  },
  {
   "cell_type": "code",
   "execution_count": null,
   "metadata": {},
   "outputs": [],
   "source": [
    "\"\"\"\n",
    "Helper Function\n",
    "Main function which helps to run the data preparation,model execution, predictions and evaluations\n",
    "\n",
    "Parameters\n",
    "\n",
    "world_df (dataframe) - Dataframe which loaded through csv\n",
    "countries (list) - comma seperated list of countries\n",
    "\"\"\""
   ]
  },
  {
   "cell_type": "code",
   "execution_count": 36,
   "metadata": {},
   "outputs": [],
   "source": [
    "def helper(df,countries):\n",
    "\n",
    "    # train/test split, fitting the model, and predicting (5) days ahead\n",
    "    train_data,test_data = train_test_data_split(df,5)\n",
    "    pm = modeling(train_data)\n",
    "    predictions_df = predictions(pm,5)\n",
    "    \n",
    "    #finalizes resulting data frame output\n",
    "    results_df = predictions_df[['ds', 'yhat', 'yhat_lower', 'yhat_upper']].merge(test_data)\n",
    "    print(results_df)\n",
    "    \n",
    "    #plots the historical data and predictions\n",
    "    fig1 = pm.plot(predictions_df)\n",
    "    fig1.suptitle(country,verticalalignment='center')\n",
    "    fig2 = pm.plot_components(predictions_df)\n",
    "    fig2.suptitle(country,verticalalignment='center')\n",
    "    print(country+' MAPE: '+str(mean_absolute_percentage_error(results_df['yhat'].iloc[0], results_df['y'].iloc[0])))\n",
    "    return results_df"
   ]
  },
  {
   "cell_type": "code",
   "execution_count": null,
   "metadata": {},
   "outputs": [],
   "source": [
    "\"\"\"\n",
    "                    Analysis\n",
    "Q2. Predict Future Cases for a given country\n",
    "\n",
    "This functions prepare data country wise for predictions\n",
    "\n",
    "Parameters df (dataframe) : The dataframe to be processed country (str) : Should be valid county name Returns:\n",
    "country_rn_df (dataframe) - Returns most country wise dataset\n",
    "\"\"\""
   ]
  },
  {
   "cell_type": "code",
   "execution_count": 37,
   "metadata": {},
   "outputs": [],
   "source": [
    "def countryWiseCasesPredictions(df,country):\n",
    "  \n",
    "  #grouping country wise\n",
    "  country_df = world_df.groupby(['Country_Region','Date'])[['ConfirmedCases','Fatalities']].sum().reset_index()\n",
    "  #filtering provided country data\n",
    "  country_df = country_df[country_df.Country_Region == country]\n",
    "  #Renaming column to fit prophet's model \n",
    "  country_rn_df = country_df.rename(columns={\"Date\":\"ds\",\"ConfirmedCases\":\"y\"})\n",
    "  #Dropping unused columns\n",
    "  country_rn_df = country_rn_df.reset_index().drop([\"index\",\"Fatalities\",\"Country_Region\"],axis= 1)\n",
    "  return country_rn_df"
   ]
  },
  {
   "cell_type": "code",
   "execution_count": null,
   "metadata": {},
   "outputs": [],
   "source": []
  },
  {
   "cell_type": "code",
   "execution_count": null,
   "metadata": {},
   "outputs": [],
   "source": []
  },
  {
   "cell_type": "code",
   "execution_count": null,
   "metadata": {},
   "outputs": [],
   "source": []
  },
  {
   "cell_type": "code",
   "execution_count": null,
   "metadata": {},
   "outputs": [],
   "source": []
  }
 ],
 "metadata": {
  "kernelspec": {
   "display_name": "Python 3",
   "language": "python",
   "name": "python3"
  },
  "language_info": {
   "codemirror_mode": {
    "name": "ipython",
    "version": 3
   },
   "file_extension": ".py",
   "mimetype": "text/x-python",
   "name": "python",
   "nbconvert_exporter": "python",
   "pygments_lexer": "ipython3",
   "version": "3.7.4"
  }
 },
 "nbformat": 4,
 "nbformat_minor": 2
}
